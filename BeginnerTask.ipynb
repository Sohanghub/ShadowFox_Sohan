{
 "cells": [
  {
   "cell_type": "markdown",
   "id": "0cc193b9-4083-4e6c-a0d2-b8d9041f317d",
   "metadata": {},
   "source": [
    "# **Beginner Task**\n"
   ]
  },
  {
   "cell_type": "markdown",
   "id": "beb9ad41-ebdd-43a3-8fa8-b88ecb12f69c",
   "metadata": {},
   "source": [
    "## **⇒ VARIABLES**"
   ]
  },
  {
   "cell_type": "markdown",
   "id": "5e8222f1-1ae3-491f-83b0-7888cfc427ca",
   "metadata": {},
   "source": [
    "#### 1. Create a variable named pi and store the value 22/7 in it. Now check the data type of this variable..\r"
   ]
  },
  {
   "cell_type": "code",
   "execution_count": 2,
   "id": "27691c01-e116-4e31-9611-36e0926ce18b",
   "metadata": {},
   "outputs": [
    {
     "name": "stdout",
     "output_type": "stream",
     "text": [
      "<class 'float'>\n"
     ]
    }
   ],
   "source": [
    "pi = 22/7\n",
    "print(type(pi))"
   ]
  },
  {
   "cell_type": "markdown",
   "id": "93a96ea2-33a5-4b88-8196-0f2382316369",
   "metadata": {},
   "source": [
    "#### 2. Create a variable called for and assing it a value 4. See what happens and find out the reason behind the behaviour that you see."
   ]
  },
  {
   "cell_type": "code",
   "execution_count": 1,
   "id": "c04180cf-ba65-4ad1-b774-45f7cee8a739",
   "metadata": {},
   "outputs": [
    {
     "ename": "SyntaxError",
     "evalue": "invalid syntax (1903135117.py, line 1)",
     "output_type": "error",
     "traceback": [
      "\u001b[1;36m  Cell \u001b[1;32mIn[1], line 1\u001b[1;36m\u001b[0m\n\u001b[1;33m    for = '4'\u001b[0m\n\u001b[1;37m        ^\u001b[0m\n\u001b[1;31mSyntaxError\u001b[0m\u001b[1;31m:\u001b[0m invalid syntax\n"
     ]
    }
   ],
   "source": [
    "for = '4'"
   ]
  },
  {
   "cell_type": "markdown",
   "id": "df12d268-9201-49d2-a60b-b954332bfc33",
   "metadata": {},
   "source": [
    "##### REASON : In Python, reserved keywords are special words that the language itself uses for its syntax and operations. These keywords have predefined meanings and are part of the Python syntax. Because of their special roles, they cannot be used as identifiers"
   ]
  },
  {
   "cell_type": "markdown",
   "id": "2ed2fde7-2506-412d-860c-5af278dbf9d1",
   "metadata": {},
   "source": [
    "#### 3. Store the principal amount, rate of interest, and time in different variables and then calculate the simple Interest for 3 years."
   ]
  },
  {
   "cell_type": "code",
   "execution_count": 6,
   "id": "80b464e4-7831-4925-b951-c49e5b4564dd",
   "metadata": {},
   "outputs": [
    {
     "name": "stdin",
     "output_type": "stream",
     "text": [
      "Principal :  1000\n",
      "Rate of Interest :  4.7\n"
     ]
    },
    {
     "name": "stdout",
     "output_type": "stream",
     "text": [
      "Simple Interest for 3 years is 141.0\n"
     ]
    }
   ],
   "source": [
    "p = float(input(\"Principal : \"))\n",
    "r = float(input(\"Rate of Interest : \"))\n",
    "t = 3\n",
    "\n",
    "SI = (p*t*r) / 100\n",
    "\n",
    "print(f\"Simple Interest for {t} years is {SI}\")"
   ]
  },
  {
   "cell_type": "markdown",
   "id": "489c258e-8823-4eba-8edd-1455eb19d69d",
   "metadata": {},
   "source": [
    "## **⇒ NUMBERS**"
   ]
  },
  {
   "cell_type": "markdown",
   "id": "c8c7dfe9-e3bd-41c2-8d09-315a35671c7c",
   "metadata": {},
   "source": [
    "#### 1. Write a function that takes two arguments, 145 and 'o', and uses the `format` function to return a formatted string. Print the result. Try to identify the representation used."
   ]
  },
  {
   "cell_type": "code",
   "execution_count": 7,
   "id": "b247e47e-f035-433e-a9f3-1d7d829ae4db",
   "metadata": {},
   "outputs": [
    {
     "name": "stdout",
     "output_type": "stream",
     "text": [
      "143o\n"
     ]
    }
   ],
   "source": [
    "def FormatedAnswer(num, chr):\n",
    "    return \"{:d}{:s}\".format(num, chr)\n",
    "\n",
    "answer = FormatedAnswer(143, 'o')\n",
    "print(answer)"
   ]
  },
  {
   "cell_type": "markdown",
   "id": "454ec767-f601-4120-b331-a46fc1bd9a05",
   "metadata": {},
   "source": [
    "##### d - used for integer\n",
    "##### s - used for string"
   ]
  },
  {
   "cell_type": "markdown",
   "id": "6f06f372-109d-4941-9e2d-112cdef74352",
   "metadata": {},
   "source": [
    "#### 2. In a village, there is a circular pond with a radius of 84 meters. Calculate the area of the pond using formula : Circle Area = π*r^2. (Use the value 3.14 for π) Bonus Question: If there is exactly 1.4 liters of water in a square meter, what is the total amount of water in the pond? Print the answer without any decimal point in it."
   ]
  },
  {
   "cell_type": "code",
   "execution_count": 9,
   "id": "c1938559-7e49-4247-baa2-2ae9a20c071e",
   "metadata": {},
   "outputs": [
    {
     "name": "stdout",
     "output_type": "stream",
     "text": [
      "Area of the pond is : 22155.84 Sqaure Meters\n",
      "Total amount of water in the pond is : 31018 Liters\n"
     ]
    }
   ],
   "source": [
    "radius = 84\n",
    "area = 3.14*(radius**2)\n",
    "water_sq = 1.4\n",
    "total_amt = area * water_sq\n",
    "\n",
    "print(f\"Area of the pond is : {area} Sqaure Meters\")\n",
    "print(f\"Total amount of water in the pond is : {int(total_amt)} Liters\")"
   ]
  },
  {
   "cell_type": "markdown",
   "id": "addc93f2-2d4d-462d-a916-d26daf22eafb",
   "metadata": {},
   "source": [
    "#### 3. If you cross a 490m long street in 7 minutes, calculate your speed in meters per second. Print the answer without any decimal point in it."
   ]
  },
  {
   "cell_type": "code",
   "execution_count": 12,
   "id": "b501c22d-fb2b-4ba4-a9b2-0be4073dcaa1",
   "metadata": {},
   "outputs": [
    {
     "name": "stdin",
     "output_type": "stream",
     "text": [
      "Enter Distance :  10000\n",
      "Hours :  2\n",
      "Minutes :  30\n",
      "Seconds :  20\n"
     ]
    },
    {
     "name": "stdout",
     "output_type": "stream",
     "text": [
      "Speed is 1 m/s\n"
     ]
    }
   ],
   "source": [
    "distance = int(input(\"Enter Distance : \"))\n",
    "\n",
    "hours = int(input(\"Hours : \"))\n",
    "minutes = int(input(\"Minutes : \"))\n",
    "seconds = int(input(\"Seconds : \"))\n",
    "\n",
    "time = (hours*3600)+(minutes*60)+seconds\n",
    "\n",
    "speed = distance/time \n",
    "\n",
    "print(f\"Speed is {int(speed)} m/s\")"
   ]
  },
  {
   "cell_type": "markdown",
   "id": "ba6a4e41-b266-4dde-a855-0b6087b10bdc",
   "metadata": {},
   "source": [
    "## **⇒ LIST**"
   ]
  },
  {
   "cell_type": "markdown",
   "id": "4e6780d6-c88a-418e-ac0a-c4b3f3e9915c",
   "metadata": {},
   "source": [
    "#### You have a list of superheroes representing the justice League. jutice_league = [\"Superman\",\"Batman\", \"Wonder Woman\", \"Flash\", \"Aquaman\", \"Green Lantern\"]. \n",
    "### perform the following tasks"
   ]
  },
  {
   "cell_type": "markdown",
   "id": "cedfb6df-3177-439e-9ca9-be605f634074",
   "metadata": {},
   "source": [
    "#### 1. Calculate the number of members in the Justice League"
   ]
  },
  {
   "cell_type": "code",
   "execution_count": 13,
   "id": "100cf212-a3a0-4f66-a3a1-7c11358a5076",
   "metadata": {},
   "outputs": [
    {
     "name": "stdout",
     "output_type": "stream",
     "text": [
      "There are 6 members in Justice League\n"
     ]
    }
   ],
   "source": [
    "justice_league = [\"Superman\",\"Batman\", \"Wonder Woman\", \"Flash\", \"Aquaman\", \"Green Lantern\"]\n",
    "print(f\"There are {len(justice_league)} members in Justice League\")"
   ]
  },
  {
   "cell_type": "markdown",
   "id": "a44197bc-89dc-45c1-8291-aacfa5da29c9",
   "metadata": {},
   "source": [
    "#### 2. Batman recruited Batgirl and Nightwing as new members. Add them to your list."
   ]
  },
  {
   "cell_type": "code",
   "execution_count": 14,
   "id": "1500a950-a8bf-49e3-a2a3-c941aa8de60f",
   "metadata": {},
   "outputs": [
    {
     "name": "stdout",
     "output_type": "stream",
     "text": [
      "Justice League after addition of two new members is  ['Superman', 'Batman', 'Wonder Woman', 'Flash', 'Aquaman', 'Green Lantern', 'Batgirl', 'Nightwing']\n"
     ]
    }
   ],
   "source": [
    "justice_league.append(\"Batgirl\")\n",
    "justice_league.append(\"Nightwing\")\n",
    "\n",
    "print(\"Justice League after addition of two new members is \", justice_league)"
   ]
  },
  {
   "cell_type": "markdown",
   "id": "b6a97cc7-a0d1-45a1-8b13-cc79221d5d32",
   "metadata": {},
   "source": [
    "#### 3. Wonder Woman is now the leader of the Justice League. Move her to the beginning of the list."
   ]
  },
  {
   "cell_type": "code",
   "execution_count": 15,
   "id": "4dd4c6df-7fa0-42fe-b0cf-2d900fde3f09",
   "metadata": {},
   "outputs": [
    {
     "name": "stdout",
     "output_type": "stream",
     "text": [
      "['Wonder Woman', 'Superman', 'Batman', 'Flash', 'Aquaman', 'Green Lantern', 'Batgirl', 'Nightwing']\n"
     ]
    }
   ],
   "source": [
    "Wonderwoman_index = justice_league.index(\"Wonder Woman\")\n",
    "Wonderwoman = justice_league.pop(Wonderwoman_index)\n",
    "\n",
    "justice_league.insert(0, Wonderwoman)\n",
    "\n",
    "print(justice_league)"
   ]
  },
  {
   "cell_type": "markdown",
   "id": "8ffada5e-207e-46d4-afd1-360de5d4703c",
   "metadata": {},
   "source": [
    "#### 4. Aquaman and Flash are having conflicts, and you need to separate them. Choose either \"Green Lantern\" or \"Superman\" and move them in between Aquaman and Flash.\r",
    "\r"
   ]
  },
  {
   "cell_type": "code",
   "execution_count": 18,
   "id": "864b3d50-f923-4b27-bf2b-e957fe4d4baa",
   "metadata": {},
   "outputs": [
    {
     "name": "stdin",
     "output_type": "stream",
     "text": [
      "Enter hero to move :  Green Lantern\n"
     ]
    },
    {
     "name": "stdout",
     "output_type": "stream",
     "text": [
      "['Wonder Woman', 'Superman', 'Batman', 'Flash', 'Green Lantern', 'Aquaman', 'Batgirl', 'Nightwing']\n"
     ]
    }
   ],
   "source": [
    "index_aquaman = justice_league.index(\"Aquaman\")\n",
    "index_flash = justice_league.index(\"Flash\")\n",
    "\n",
    "hero_to_move = input(\"Enter hero to move : \")\n",
    "\n",
    "if hero_to_move in justice_league:\n",
    "    justice_league.remove(hero_to_move)\n",
    "    justice_league.insert(index_aquaman, hero_to_move)\n",
    "    print(justice_league)\n",
    "else:\n",
    "    print(f\"{hero_to_move} is not in the Justice League list.\")"
   ]
  },
  {
   "cell_type": "markdown",
   "id": "fdc64f16-24c2-4936-a4e0-cd1529d435fe",
   "metadata": {},
   "source": [
    "#### 5. The Justice League faced a crisis, and Superman decided to assemble a new team. Replace the existing list with the following new members: \"Cyborg\", \"Shazam\", \"Hawkgirl\", \"Martian\", \"Manhunter\", \"Green Arrow\"."
   ]
  },
  {
   "cell_type": "code",
   "execution_count": 23,
   "id": "73cf2d84-5731-4e42-bfcc-0e4a382c5fb3",
   "metadata": {},
   "outputs": [
    {
     "name": "stdout",
     "output_type": "stream",
     "text": [
      "New Justice League is ['Superman', 'Cyborg', 'Shazam', 'Hawkgirl', 'Martian', 'Manhunter', 'Green Arrow']\n"
     ]
    }
   ],
   "source": [
    "new_team = [\"Superman\", \"Cyborg\", \"Shazam\", \"Hawkgirl\", \"Martian\", \"Manhunter\", \"Green Arrow\"]\n",
    "\n",
    "justice_league = new_team\n",
    "\n",
    "print(\"New Justice League is\", justice_league)"
   ]
  },
  {
   "cell_type": "markdown",
   "id": "82f65662-1d5c-42bd-9dc4-5ec4c263a99c",
   "metadata": {},
   "source": [
    "#### 6. Sort the Justice League alphabetically. The hero at the 0th index will become the new leader. "
   ]
  },
  {
   "cell_type": "code",
   "execution_count": 25,
   "id": "caf56d30-7fad-4591-bfd6-ee43ed7da1f3",
   "metadata": {},
   "outputs": [
    {
     "name": "stdout",
     "output_type": "stream",
     "text": [
      "Sorted Justice League  ['Cyborg', 'Green Arrow', 'Hawkgirl', 'Manhunter', 'Martian', 'Shazam', 'Superman']\n"
     ]
    }
   ],
   "source": [
    "justice_league.sort()\n",
    "\n",
    "print(\"Sorted Justice League \", justice_league)"
   ]
  },
  {
   "cell_type": "markdown",
   "id": "0291f436-7de9-446c-a8d1-e691ac2e03d4",
   "metadata": {},
   "source": [
    "#### *BONUS QUESTION*"
   ]
  },
  {
   "cell_type": "code",
   "execution_count": 26,
   "id": "93ddd497-f354-44e5-a7fc-cb72c4d49e0a",
   "metadata": {},
   "outputs": [
    {
     "name": "stdout",
     "output_type": "stream",
     "text": [
      "New Leader is : Cyborg\n"
     ]
    }
   ],
   "source": [
    "new_leader = justice_league[0]\n",
    "print(\"New Leader is :\", new_leader)"
   ]
  },
  {
   "cell_type": "markdown",
   "id": "47331ea5-ebe1-494e-996f-465d47154fac",
   "metadata": {},
   "source": [
    "## **⇒ IF CONDITION**"
   ]
  },
  {
   "cell_type": "markdown",
   "id": "771a471e-4477-4695-b49c-9fb9c95bff7c",
   "metadata": {},
   "source": [
    "#### 1. Write a program to determine the BMI Category based on user input.\n",
    "#### Ask the user to:\n",
    "####   Enter height in meters\n",
    "####   Enter weight in kilograms\n",
    "####   Calculate BMI using the formula: BMI = weight / (height)2\n",
    "#### Use the following categories:\n",
    "#### If BMI is 30 or greater, print \"Obesity\"\n",
    "#### If BMI is between 25 and 29, print \"Overweight\"\n",
    "#### If BMI is between 18.5 and 25, print \"Normal\"\n",
    "#### If BMI is less than 18.5, print \"Underweight\"\n",
    "#### Examples: Enter height in meters: 1.75, Enter weight in kilograms: 70\n",
    "#### Output: \"Normal\""
   ]
  },
  {
   "cell_type": "code",
   "execution_count": 5,
   "id": "d9e3bd40-2788-4586-838e-e596097078a0",
   "metadata": {},
   "outputs": [
    {
     "name": "stdin",
     "output_type": "stream",
     "text": [
      "Enter height in Meters:  1.71\n",
      "Enter weight in Kilograms:  70\n"
     ]
    },
    {
     "name": "stdout",
     "output_type": "stream",
     "text": [
      "Normal\n"
     ]
    }
   ],
   "source": [
    "height = float(input(\"Enter height in Meters: \"))\n",
    "weight = float(input(\"Enter weight in Kilograms: \"))\n",
    "BMI = weight / (height)**2 \n",
    "\n",
    "if BMI >= 30:\n",
    "    print(\"Obesity\")\n",
    "elif BMI >= 25 and BMI <= 29:\n",
    "    print(\"Overweight\")\n",
    "elif BMI >= 18.5 and BMI <= 24:\n",
    "    print(\"Normal\")\n",
    "elif BMI < 18.5:\n",
    "    print(\"Underweight\")"
   ]
  },
  {
   "cell_type": "markdown",
   "id": "3d3bbf39-9096-4835-979e-35efafd55105",
   "metadata": {},
   "source": [
    "#### 2. Write a program to determine which country a city belongs to. Given list of cities per country:\n",
    "#### Australia = [\"Sydney\", \"Melbourne\", \"Brisbane\", \"Perth\"]\n",
    "#### UAE = [\"Dubai\", \"Abu Dhabi\", \"Sharjah\", \"Ajman\"]\n",
    "#### India = [\"Mumbai\", \"Bangalore\", \"Chennai\", \"Delhi\"]\n",
    "#### Example: \n",
    "#### Enter a city name: \"Abu Dhabi\"\n",
    "#### Output: \"Abu Dhabi is in UAE\""
   ]
  },
  {
   "cell_type": "code",
   "execution_count": 7,
   "id": "178bd7c3-5821-4566-acca-ddcd5a516db6",
   "metadata": {},
   "outputs": [
    {
     "name": "stdin",
     "output_type": "stream",
     "text": [
      "Enter a city name :  Canberra\n"
     ]
    },
    {
     "name": "stdout",
     "output_type": "stream",
     "text": [
      "Canberra is Unknown\n"
     ]
    }
   ],
   "source": [
    "Australia = [\"Sydney\", \"Melbourne\", \"Brisbane\", \"Perth\"]\n",
    "UAE = [\"Dubai\", \"Abu Dhabi\", \"Sharjah\", \"Ajman\"]\n",
    "India = [\"Mumbai\", \"Bangalore\", \"Chennai\", \"Delhi\"]\n",
    "\n",
    "country = input(\"Enter a city name : \")\n",
    "\n",
    "if country in Australia:\n",
    "    print(f\"{country} is in Australia\")\n",
    "elif country in UAE:\n",
    "    print(f\"{country} is in UAE\")\n",
    "elif country in India:\n",
    "    print(f\"{country} is in India\")\n",
    "else:\n",
    "    print(f\"{country} is Unknown\")"
   ]
  },
  {
   "cell_type": "markdown",
   "id": "09b7a301-4903-4d13-bf7b-2c8162275379",
   "metadata": {},
   "source": [
    "#### 3. Write a program to check if two cities belong to the same country. Ask the user to enter two cities and print whether they belong to the same country or not.\n",
    "\n",
    "### Example: \n",
    "#### Enter the first city: \"Mumbai\"\n",
    "#### Enter the second city: \"Chennai\"\n",
    "#### Output: \"Both cities are in India\""
   ]
  },
  {
   "cell_type": "code",
   "execution_count": 10,
   "id": "ab135f06-63a4-4b5a-ae12-6d5056f50da1",
   "metadata": {},
   "outputs": [
    {
     "name": "stdin",
     "output_type": "stream",
     "text": [
      "Enter First city :  Delhi\n",
      "Enter Second city :  Chennai\n"
     ]
    },
    {
     "name": "stdout",
     "output_type": "stream",
     "text": [
      "Both cities are in India\n"
     ]
    }
   ],
   "source": [
    "Australia = [\"Sydney\", \"Melbourne\", \"Brisbane\", \"Perth\"]\n",
    "UAE = [\"Dubai\", \"Abu Dhabi\", \"Sharjah\", \"Ajman\"]\n",
    "India = [\"Mumbai\", \"Bangalore\", \"Chennai\", \"Delhi\"]\n",
    "\n",
    "city1 = input(\"Enter First city : \")\n",
    "city2 = input(\"Enter Second city : \")\n",
    "\n",
    "if city1 and city2 in Australia:\n",
    "    print(f\"Both cities are in Australia\")\n",
    "elif city1 and city2 in UAE:\n",
    "    print(f\"Both cities are in UAE\")\n",
    "elif city1 and city2 in India:\n",
    "    print(f\"Both cities are in India\")\n",
    "else:\n",
    "    print(f\"Both are in Different countries!\")"
   ]
  },
  {
   "cell_type": "markdown",
   "id": "f2b0c191-821e-45ae-9bcc-33a3a419a263",
   "metadata": {},
   "source": [
    "## **⇒ DICTIONARY**"
   ]
  },
  {
   "cell_type": "markdown",
   "id": "53365aa5-25bf-4d15-8199-9c56d0621d5e",
   "metadata": {},
   "source": [
    "#### 1. Create a list of your friends' names. The list should have at least 5 names. Create a list of tuples. Each tuple should contain a friend's name and the length of the name. For example, if someone’s name is Aditya, the tuple would be: ('Aditya', 6)"
   ]
  },
  {
   "cell_type": "code",
   "execution_count": 11,
   "id": "470cd2af-559a-49ee-bf77-fd44a0f66386",
   "metadata": {},
   "outputs": [
    {
     "name": "stdout",
     "output_type": "stream",
     "text": [
      "[('Amarnath', 8), ('Badrinath', 9), ('Chamundeshwari', 14), ('Devika', 6), ('Eeshwari', 8)]\n"
     ]
    }
   ],
   "source": [
    "names = [\"Amarnath\", \"Badrinath\", \"Chamundeshwari\", \"Devika\", \"Eeshwari\"]\n",
    "\n",
    "name_tuples = [(name, len(name)) for name in names]\n",
    "\n",
    "print(name_tuples)"
   ]
  },
  {
   "cell_type": "markdown",
   "id": "6687d2ac-1a6d-44c1-80cf-2824145997d7",
   "metadata": {},
   "source": [
    "#### 2. You and your partner are planning a trip, and you want to track expenses. Create two dictionaries, one for your expenses and one for your partner's expenses. Each dictionary should contain at least 5 expense categories and their corresponding amounts.\n",
    "#### for example: \n",
    "#### your_expenses = {\"Hotel\": 1200, \"Food\": 800, \"Transportation\": 500, \"Attractions\": 300, \"Miscellaneous\": 200}\n",
    "#### partner_expenses = {\"Hotel\": 1000, \"Food\": 900, \"Transportation\": 600, \"Attractions\": 400, \"Miscellaneous\": 150}\n",
    "#### Calculate the total expenses for each of you and print the results. Determine who spent more money overall and print the result. Find out the expense category where there is a significant difference in spending between you and your partner. Print the category and the difference.\r\n"
   ]
  },
  {
   "cell_type": "code",
   "execution_count": 17,
   "id": "c7f7da8c-e4f0-47a7-bcb8-2e42465069b4",
   "metadata": {},
   "outputs": [
    {
     "name": "stdout",
     "output_type": "stream",
     "text": [
      "Your total expenses: ₹3000\n",
      "Partner's total expenses: ₹3050\n",
      "Your partner spent more money overall.\n",
      "The expense category with the most significant difference is 'Hotel' with a difference of  ₹200.\n"
     ]
    }
   ],
   "source": [
    "your_expenses = {\n",
    "    \"Hotel\": 1200,\n",
    "    \"Food\": 800,\n",
    "    \"Transportation\": 500,\n",
    "    \"Attractions\": 300,\n",
    "    \"Miscellaneous\": 200\n",
    "}\n",
    "\n",
    "partner_expenses = {\n",
    "    \"Hotel\": 1000,\n",
    "    \"Food\": 900,\n",
    "    \"Transportation\": 600,\n",
    "    \"Attractions\": 400,\n",
    "    \"Miscellaneous\": 150\n",
    "}\n",
    "\n",
    "total_your_expenses = sum(your_expenses.values())\n",
    "total_partner_expenses = sum(partner_expenses.values())\n",
    "\n",
    "print(f\"Your total expenses: ₹{total_your_expenses}\")\n",
    "print(f\"Partner's total expenses: ₹{total_partner_expenses}\")\n",
    "\n",
    "if total_your_expenses > total_partner_expenses:\n",
    "    print(\"You spent more money overall.\")\n",
    "elif total_your_expenses < total_partner_expenses:\n",
    "    print(\"Your partner spent more money overall.\")\n",
    "else:\n",
    "    print(\"You and your partner spent the same amount of money.\")\n",
    "\n",
    "max_difference = 0\n",
    "category_with_max_difference = \"\"\n",
    "\n",
    "for category in your_expenses:\n",
    "    difference = abs(your_expenses[category] - partner_expenses[category])\n",
    "    if difference > max_difference:\n",
    "        max_difference = difference\n",
    "        category_with_max_difference = category\n",
    "\n",
    "print(f\"The expense category with the most significant difference is '{category_with_max_difference}' with a difference of  ₹{max_difference}.\")"
   ]
  }
 ],
 "metadata": {
  "kernelspec": {
   "display_name": "Python 3 (ipykernel)",
   "language": "python",
   "name": "python3"
  },
  "language_info": {
   "codemirror_mode": {
    "name": "ipython",
    "version": 3
   },
   "file_extension": ".py",
   "mimetype": "text/x-python",
   "name": "python",
   "nbconvert_exporter": "python",
   "pygments_lexer": "ipython3",
   "version": "3.11.7"
  }
 },
 "nbformat": 4,
 "nbformat_minor": 5
}
